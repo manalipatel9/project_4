{
 "cells": [
  {
   "cell_type": "code",
   "execution_count": 1,
   "metadata": {},
   "outputs": [],
   "source": [
    "import pandas as pd\n",
    "import numpy as np\n",
    "import joblib\n",
    "import matplotlib.pyplot as plt\n",
    "from sklearn.metrics import accuracy_score, classification_report, confusion_matrix"
   ]
  },
  {
   "cell_type": "markdown",
   "metadata": {},
   "source": [
    "First, we must create a dataset of fake asteroids without the hazardous/not hazardous ratings. Then, we will input this new dataset into our model to predict their hazard ratings."
   ]
  },
  {
   "cell_type": "code",
   "execution_count": 2,
   "metadata": {},
   "outputs": [],
   "source": [
    "# Set a random seed for reproducibility\n",
    "np.random.seed(42)\n",
    "\n",
    "# Define the number of samples in your dataset\n",
    "num_samples = 90000"
   ]
  },
  {
   "cell_type": "code",
   "execution_count": 3,
   "metadata": {},
   "outputs": [],
   "source": [
    "# Generate synthetic data for asteroid parameters\n",
    "data = {\n",
    "    'est_diameter_min': np.random.uniform(low=0, high=4e01, size=num_samples),\n",
    "    'est_diameter_max': np.random.uniform(low=0, high=9e01, size=num_samples),\n",
    "    'relative_velocity': np.random.uniform(low=150, high=2.5e05, size=num_samples),\n",
    "    'miss_distance': np.random.uniform(low=6500, high=8e07, size=num_samples),\n",
    "    'absolute_magnitude': np.random.uniform(low=5, high=3.5e01, size=num_samples),\n",
    "}"
   ]
  },
  {
   "cell_type": "code",
   "execution_count": 4,
   "metadata": {},
   "outputs": [
    {
     "data": {
      "text/html": [
       "<div>\n",
       "<style scoped>\n",
       "    .dataframe tbody tr th:only-of-type {\n",
       "        vertical-align: middle;\n",
       "    }\n",
       "\n",
       "    .dataframe tbody tr th {\n",
       "        vertical-align: top;\n",
       "    }\n",
       "\n",
       "    .dataframe thead th {\n",
       "        text-align: right;\n",
       "    }\n",
       "</style>\n",
       "<table border=\"1\" class=\"dataframe\">\n",
       "  <thead>\n",
       "    <tr style=\"text-align: right;\">\n",
       "      <th></th>\n",
       "      <th>est_diameter_min</th>\n",
       "      <th>est_diameter_max</th>\n",
       "      <th>relative_velocity</th>\n",
       "      <th>miss_distance</th>\n",
       "      <th>absolute_magnitude</th>\n",
       "    </tr>\n",
       "  </thead>\n",
       "  <tbody>\n",
       "    <tr>\n",
       "      <th>0</th>\n",
       "      <td>14.981605</td>\n",
       "      <td>78.944324</td>\n",
       "      <td>53641.094128</td>\n",
       "      <td>2.988757e+07</td>\n",
       "      <td>17.026393</td>\n",
       "    </tr>\n",
       "    <tr>\n",
       "      <th>1</th>\n",
       "      <td>38.028572</td>\n",
       "      <td>81.645520</td>\n",
       "      <td>187971.525886</td>\n",
       "      <td>5.936688e+07</td>\n",
       "      <td>7.979078</td>\n",
       "    </tr>\n",
       "    <tr>\n",
       "      <th>2</th>\n",
       "      <td>29.279758</td>\n",
       "      <td>34.053509</td>\n",
       "      <td>72971.660757</td>\n",
       "      <td>3.722040e+07</td>\n",
       "      <td>24.781366</td>\n",
       "    </tr>\n",
       "    <tr>\n",
       "      <th>3</th>\n",
       "      <td>23.946339</td>\n",
       "      <td>23.946339</td>\n",
       "      <td>224091.385381</td>\n",
       "      <td>6.241751e+07</td>\n",
       "      <td>29.182326</td>\n",
       "    </tr>\n",
       "    <tr>\n",
       "      <th>4</th>\n",
       "      <td>6.240746</td>\n",
       "      <td>17.249495</td>\n",
       "      <td>98994.294293</td>\n",
       "      <td>2.168609e+07</td>\n",
       "      <td>34.139751</td>\n",
       "    </tr>\n",
       "  </tbody>\n",
       "</table>\n",
       "</div>"
      ],
      "text/plain": [
       "   est_diameter_min  est_diameter_max  relative_velocity  miss_distance  \\\n",
       "0         14.981605         78.944324       53641.094128   2.988757e+07   \n",
       "1         38.028572         81.645520      187971.525886   5.936688e+07   \n",
       "2         29.279758         34.053509       72971.660757   3.722040e+07   \n",
       "3         23.946339         23.946339      224091.385381   6.241751e+07   \n",
       "4          6.240746         17.249495       98994.294293   2.168609e+07   \n",
       "\n",
       "   absolute_magnitude  \n",
       "0           17.026393  \n",
       "1            7.979078  \n",
       "2           24.781366  \n",
       "3           29.182326  \n",
       "4           34.139751  "
      ]
     },
     "execution_count": 4,
     "metadata": {},
     "output_type": "execute_result"
    }
   ],
   "source": [
    "#make sure that est_diameter_max is always larger than est_diameter_min\n",
    "data['est_diameter_max'] = np.maximum(data['est_diameter_min'], data['est_diameter_max'])\n",
    "\n",
    "# Create a DataFrame from the synthetic data\n",
    "hypothetical_asteroids = pd.DataFrame(data)\n",
    "\n",
    "# Display the first few rows of the dataset\n",
    "hypothetical_asteroids.head()"
   ]
  },
  {
   "cell_type": "code",
   "execution_count": 5,
   "metadata": {},
   "outputs": [
    {
     "data": {
      "text/plain": [
       "array([0, 0, 0, ..., 1, 0, 0], dtype=uint8)"
      ]
     },
     "execution_count": 5,
     "metadata": {},
     "output_type": "execute_result"
    }
   ],
   "source": [
    "# Load the trained model from the file\n",
    "model = joblib.load('asteroidpredictor.joblib')\n",
    "\n",
    "# make predictions using our hypothetical_asteroids dataframe\n",
    "predictions = model.predict(hypothetical_asteroids)\n",
    "\n",
    "# Display the predictions\n",
    "predictions"
   ]
  },
  {
   "cell_type": "code",
   "execution_count": 6,
   "metadata": {},
   "outputs": [
    {
     "data": {
      "text/html": [
       "<div>\n",
       "<style scoped>\n",
       "    .dataframe tbody tr th:only-of-type {\n",
       "        vertical-align: middle;\n",
       "    }\n",
       "\n",
       "    .dataframe tbody tr th {\n",
       "        vertical-align: top;\n",
       "    }\n",
       "\n",
       "    .dataframe thead th {\n",
       "        text-align: right;\n",
       "    }\n",
       "</style>\n",
       "<table border=\"1\" class=\"dataframe\">\n",
       "  <thead>\n",
       "    <tr style=\"text-align: right;\">\n",
       "      <th></th>\n",
       "      <th>est_diameter_min</th>\n",
       "      <th>est_diameter_max</th>\n",
       "      <th>relative_velocity</th>\n",
       "      <th>miss_distance</th>\n",
       "      <th>absolute_magnitude</th>\n",
       "      <th>hazardous</th>\n",
       "    </tr>\n",
       "  </thead>\n",
       "  <tbody>\n",
       "    <tr>\n",
       "      <th>0</th>\n",
       "      <td>14.981605</td>\n",
       "      <td>78.944324</td>\n",
       "      <td>53641.094128</td>\n",
       "      <td>2.988757e+07</td>\n",
       "      <td>17.026393</td>\n",
       "      <td>F</td>\n",
       "    </tr>\n",
       "    <tr>\n",
       "      <th>1</th>\n",
       "      <td>38.028572</td>\n",
       "      <td>81.645520</td>\n",
       "      <td>187971.525886</td>\n",
       "      <td>5.936688e+07</td>\n",
       "      <td>7.979078</td>\n",
       "      <td>F</td>\n",
       "    </tr>\n",
       "    <tr>\n",
       "      <th>2</th>\n",
       "      <td>29.279758</td>\n",
       "      <td>34.053509</td>\n",
       "      <td>72971.660757</td>\n",
       "      <td>3.722040e+07</td>\n",
       "      <td>24.781366</td>\n",
       "      <td>F</td>\n",
       "    </tr>\n",
       "    <tr>\n",
       "      <th>3</th>\n",
       "      <td>23.946339</td>\n",
       "      <td>23.946339</td>\n",
       "      <td>224091.385381</td>\n",
       "      <td>6.241751e+07</td>\n",
       "      <td>29.182326</td>\n",
       "      <td>F</td>\n",
       "    </tr>\n",
       "    <tr>\n",
       "      <th>4</th>\n",
       "      <td>6.240746</td>\n",
       "      <td>17.249495</td>\n",
       "      <td>98994.294293</td>\n",
       "      <td>2.168609e+07</td>\n",
       "      <td>34.139751</td>\n",
       "      <td>F</td>\n",
       "    </tr>\n",
       "  </tbody>\n",
       "</table>\n",
       "</div>"
      ],
      "text/plain": [
       "   est_diameter_min  est_diameter_max  relative_velocity  miss_distance  \\\n",
       "0         14.981605         78.944324       53641.094128   2.988757e+07   \n",
       "1         38.028572         81.645520      187971.525886   5.936688e+07   \n",
       "2         29.279758         34.053509       72971.660757   3.722040e+07   \n",
       "3         23.946339         23.946339      224091.385381   6.241751e+07   \n",
       "4          6.240746         17.249495       98994.294293   2.168609e+07   \n",
       "\n",
       "   absolute_magnitude hazardous  \n",
       "0           17.026393         F  \n",
       "1            7.979078         F  \n",
       "2           24.781366         F  \n",
       "3           29.182326         F  \n",
       "4           34.139751         F  "
      ]
     },
     "execution_count": 6,
     "metadata": {},
     "output_type": "execute_result"
    }
   ],
   "source": [
    "hypothetical_asteroids['hazardous'] = predictions\n",
    "hypothetical_asteroids['hazardous'] = hypothetical_asteroids['hazardous'].map({0: 'F', 1: 'T'})\n",
    "\n",
    "# Display the DataFrame with the 'hazardous' column\n",
    "hypothetical_asteroids.head()"
   ]
  },
  {
   "cell_type": "markdown",
   "metadata": {},
   "source": [
    "## Using the model to predict hazard rating"
   ]
  },
  {
   "cell_type": "code",
   "execution_count": 7,
   "metadata": {},
   "outputs": [
    {
     "name": "stdout",
     "output_type": "stream",
     "text": [
      "Count of Non-Hazardous (F): 75138\n",
      "Count of Hazardous (T): 14862\n"
     ]
    }
   ],
   "source": [
    "# Display the count of hazardous and non-hazardous asteroids\n",
    "count_hazardous = hypothetical_asteroids['hazardous'].value_counts()\n",
    "\n",
    "print(\"Count of Non-Hazardous (F):\", count_hazardous['F'])\n",
    "print(\"Count of Hazardous (T):\", count_hazardous['T'])"
   ]
  }
 ],
 "metadata": {
  "kernelspec": {
   "display_name": "base",
   "language": "python",
   "name": "python3"
  },
  "language_info": {
   "codemirror_mode": {
    "name": "ipython",
    "version": 3
   },
   "file_extension": ".py",
   "mimetype": "text/x-python",
   "name": "python",
   "nbconvert_exporter": "python",
   "pygments_lexer": "ipython3",
   "version": "3.10.9"
  }
 },
 "nbformat": 4,
 "nbformat_minor": 2
}
